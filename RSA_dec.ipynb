{
 "cells": [
  {
   "cell_type": "code",
   "execution_count": 1,
   "id": "5db60986-daf5-44fc-9c87-f52dcd82b321",
   "metadata": {},
   "outputs": [],
   "source": [
    "import numpy as np\n",
    "\n",
    "# Importing standard Qiskit libraries\n",
    "from qiskit import QuantumCircuit, transpile, Aer, IBMQ\n",
    "from qiskit.tools.jupyter import *\n",
    "from qiskit.visualization import *\n",
    "from ibm_quantum_widgets import *\n",
    "from qiskit.providers.aer import QasmSimulator\n",
    "\n",
    "# Loading your IBM Quantum account(s)\n",
    "provider = IBMQ.load_account()"
   ]
  },
  {
   "cell_type": "code",
   "execution_count": 3,
   "id": "e1fefccc-75a8-479d-82f6-9a2b4463a436",
   "metadata": {},
   "outputs": [],
   "source": [
    "from __future__ import unicode_literals\n",
    "from math import sqrt\n",
    "import random\n",
    "from random import randint as rand"
   ]
  },
  {
   "cell_type": "code",
   "execution_count": 4,
   "id": "4d443061-dbf7-430d-a6f4-d3f03535be05",
   "metadata": {},
   "outputs": [],
   "source": [
    "def gcd(a, b):\n",
    "    if b == 0:\n",
    "        return a\n",
    "    else:\n",
    "        return gcd(b, a % b)\n",
    "\n",
    "def mod_inverse(a, m):\n",
    "    for x in range(1, m):\n",
    "        if (a * x) % m == 1:\n",
    "            return x\n",
    "    return -1"
   ]
  },
  {
   "cell_type": "code",
   "execution_count": 5,
   "id": "2eea606d-05e7-49b6-ad45-fbe96e94f313",
   "metadata": {},
   "outputs": [],
   "source": [
    "def isprime(n):\n",
    "    if n < 2:\n",
    "        return False\n",
    "    elif n == 2:\n",
    "        return True\n",
    "    else:\n",
    "        for i in range(1, int(sqrt(n)) + 1):\n",
    "            if n % i == 0:\n",
    "                return False\n",
    "    return True"
   ]
  },
  {
   "cell_type": "code",
   "execution_count": 6,
   "id": "bc9c4924-5249-4b7b-9e65-f38f12ca2e59",
   "metadata": {},
   "outputs": [],
   "source": [
    "def generate_keypair(keysize):\n",
    "    p = rand(1, 1000)\n",
    "    q = rand(1, 1000)\n",
    "    nMin = 1 << (keysize - 1)\n",
    "    nMax = (1 << keysize) - 1\n",
    "    primes = [2]\n",
    "    start = 1 << (keysize // 2 - 1)\n",
    "    stop = 1 << (keysize // 2 + 1)\n",
    "    if start >= stop:\n",
    "        return []\n",
    "    for i in range(3, stop + 1, 2):\n",
    "        for p in primes:\n",
    "            if i % p == 0:\n",
    "                break\n",
    "        else:\n",
    "            primes.append(i)\n",
    "    while (primes and primes[0] < start):\n",
    "        del primes[0]\n",
    "    while primes:\n",
    "        p = random.choice(primes)\n",
    "        primes.remove(p)\n",
    "        q_values = [q for q in primes if nMin <= p * q <= nMax]\n",
    "        if q_values:\n",
    "            q = random.choice(q_values)\n",
    "            break\n",
    "    print(p, q)\n",
    "    n = p * q\n",
    "    phi = (p - 1) * (q - 1)\n",
    "    e = random.randrange(1, phi)\n",
    "    g = gcd(e, phi)\n",
    "    while True:\n",
    "        e = random.randrange(1, phi)\n",
    "        g = gcd(e, phi)\n",
    "        d = mod_inverse(e, phi)\n",
    "        if g == 1 and e != d:\n",
    "            break\n",
    "\n",
    "    return ((e, n), (d, n))"
   ]
  },
  {
   "cell_type": "code",
   "execution_count": 7,
   "id": "39ae8fa7-0ee8-412d-88b7-c2bff915c6f8",
   "metadata": {},
   "outputs": [],
   "source": [
    "def encrypt(msg_plaintext, package):\n",
    "    e, n = package\n",
    "    msg_ciphertext = [pow(ord(c), e, n) for c in msg_plaintext]\n",
    "    return ''.join(map(lambda x: str(x), msg_ciphertext)), msg_ciphertext\n"
   ]
  },
  {
   "cell_type": "code",
   "execution_count": 9,
   "id": "bb9d3ea8-e1b1-4c0c-a9cb-0cde4a810127",
   "metadata": {},
   "outputs": [
    {
     "name": "stdin",
     "output_type": "stream",
     "text": [
      "Enter bit_length:  4\n"
     ]
    },
    {
     "name": "stdout",
     "output_type": "stream",
     "text": [
      "151 271\n"
     ]
    }
   ],
   "source": [
    "bit_length = int(input(\"Enter bit_length: \"))\n",
    "\n",
    "public, private = generate_keypair(2**bit_length)"
   ]
  },
  {
   "cell_type": "code",
   "execution_count": 10,
   "id": "b9db1335-bf18-4f2c-b4a7-8f377c07b694",
   "metadata": {},
   "outputs": [
    {
     "name": "stdin",
     "output_type": "stream",
     "text": [
      "\n",
      "Write message:  hello there\n"
     ]
    },
    {
     "name": "stdout",
     "output_type": "stream",
     "text": [
      "\n",
      "Encrypted message: 308866714249302493071111370815158308866714225766714\n"
     ]
    }
   ],
   "source": [
    "msg = input(\"\\nWrite message: \")\n",
    "encrypted_msg, encryption_obj = encrypt(msg, public)\n",
    "\n",
    "print(\"\\nEncrypted message: \" + encrypted_msg)"
   ]
  },
  {
   "cell_type": "code",
   "execution_count": 11,
   "id": "a4eecc00-448e-411c-90b3-8918a158f7e2",
   "metadata": {},
   "outputs": [],
   "source": [
    "\n",
    "from math import gcd,log\n",
    "from random import randint\n",
    "import numpy as np\n",
    "from qiskit import *\n",
    "\n",
    "qasm_sim = qiskit.Aer.get_backend('qasm_simulator')"
   ]
  },
  {
   "cell_type": "code",
   "execution_count": 12,
   "id": "9f79656e-d986-431b-bd6e-e4a5e04333ad",
   "metadata": {},
   "outputs": [],
   "source": [
    "def period(a,N):\n",
    "    \n",
    "    available_qubits = 16 \n",
    "    r=-1   \n",
    "    \n",
    "    if N >= 2**available_qubits:\n",
    "        print(str(N)+' is too big for IBMQX')\n",
    "    \n",
    "    qr = QuantumRegister(available_qubits)   \n",
    "    cr = ClassicalRegister(available_qubits)\n",
    "    qc = QuantumCircuit(qr,cr)\n",
    "    x0 = randint(1, N-1) \n",
    "    x_binary = np.zeros(available_qubits, dtype=bool)\n",
    "    \n",
    "    for i in range(1, available_qubits + 1):\n",
    "        bit_state = (N%(2**i)!=0)\n",
    "        if bit_state:\n",
    "            N -= 2**(i-1)\n",
    "        x_binary[available_qubits-i] = bit_state    \n",
    "    \n",
    "    for i in range(0,available_qubits):\n",
    "        if x_binary[available_qubits-i-1]:\n",
    "            qc.x(qr[i])\n",
    "    x = x0\n",
    "    \n",
    "    while np.logical_or(x != x0, r <= 0):\n",
    "        r+=1\n",
    "        qc.measure(qr, cr) \n",
    "        for i in range(0,3): \n",
    "            qc.x(qr[i])\n",
    "        qc.cx(qr[2],qr[1])\n",
    "        qc.cx(qr[1],qr[2])\n",
    "        qc.cx(qr[2],qr[1])\n",
    "        qc.cx(qr[1],qr[0])\n",
    "        qc.cx(qr[0],qr[1])\n",
    "        qc.cx(qr[1],qr[0])\n",
    "        qc.cx(qr[3],qr[0])\n",
    "        qc.cx(qr[0],qr[1])\n",
    "        qc.cx(qr[1],qr[0])\n",
    "        \n",
    "        result = execute(qc,backend = qasm_sim, shots=1024).result()\n",
    "        counts = result.get_counts()\n",
    "        \n",
    "        #print(qc)\n",
    "        \n",
    "        results = [[],[]]\n",
    "        for key,value in counts.items(): \n",
    "            results[0].append(key)\n",
    "            results[1].append(int(value))\n",
    "        s = results[0][np.argmax(np.array(results[1]))]\n",
    "    return r"
   ]
  },
  {
   "cell_type": "code",
   "execution_count": 13,
   "id": "b369ca64-8dc0-4e63-899e-1c91c5bf6281",
   "metadata": {},
   "outputs": [],
   "source": [
    "def shors_breaker(N):\n",
    "    N = int(N)\n",
    "    while True:\n",
    "        a=randint(0,N-1)\n",
    "        g=gcd(a,N)\n",
    "        if g!=1 or N==1:\n",
    "            return g,N//g\n",
    "        else:\n",
    "            r=period(a,N) \n",
    "            if r % 2 != 0:\n",
    "                continue\n",
    "            elif pow(a,r//2,N)==-1:\n",
    "                continue\n",
    "            else:\n",
    "                p=gcd(pow(a,r//2)+1,N)\n",
    "                q=gcd(pow(a,r//2)-1,N)\n",
    "                if p==N or q==N:\n",
    "                    continue\n",
    "                return p,q"
   ]
  },
  {
   "cell_type": "code",
   "execution_count": 14,
   "id": "d5f253d5-6cf5-4ef6-bfaf-5f778f5b35f3",
   "metadata": {},
   "outputs": [],
   "source": [
    "def modular_inverse(a,m): \n",
    "    a = a % m; \n",
    "    for x in range(1, m) : \n",
    "        if ((a * x) % m == 1) : \n",
    "            return x \n",
    "    return 1"
   ]
  },
  {
   "cell_type": "code",
   "execution_count": 19,
   "id": "e4539b51-6773-4696-9971-daf4297a1a44",
   "metadata": {},
   "outputs": [],
   "source": [
    "N_shor = public[1]\n",
    "assert N_shor>0,\"Input must be positive\"\n",
    "p,q = shors_breaker(N_shor)\n",
    "phi = (p-1) * (q-1)  \n",
    "d_shor = modular_inverse(public[0], phi)"
   ]
  },
  {
   "cell_type": "code",
   "execution_count": 24,
   "id": "3b6c24a8-b7ee-49c7-9f42-197ef4125e89",
   "metadata": {},
   "outputs": [
    {
     "name": "stdout",
     "output_type": "stream",
     "text": [
      "\n",
      "Message Cracked using Shors Algorithm: hello there\n",
      "\n"
     ]
    }
   ],
   "source": [
    "decrypted_msg = decrypt(encryption_obj, (d_shor,N_shor))\n",
    "\n",
    "print('\\nMessage Cracked using Shors Algorithm: ' + decrypted_msg + \"\\n\")"
   ]
  },
  {
   "cell_type": "code",
   "execution_count": null,
   "id": "37c2c667-6cca-4fe0-8ffe-08e17db7c514",
   "metadata": {},
   "outputs": [],
   "source": []
  }
 ],
 "metadata": {
  "kernelspec": {
   "display_name": "Qiskit v0.31.0 (ipykernel)",
   "language": "python",
   "name": "python3"
  },
  "language_info": {
   "codemirror_mode": {
    "name": "ipython",
    "version": 3
   },
   "file_extension": ".py",
   "mimetype": "text/x-python",
   "name": "python",
   "nbconvert_exporter": "python",
   "pygments_lexer": "ipython3",
   "version": "3.8.10"
  },
  "widgets": {
   "application/vnd.jupyter.widget-state+json": {
    "state": {
     "0e512b7431e2477aac1a739203fe71fb": {
      "model_module": "@jupyter-widgets/base",
      "model_module_version": "1.2.0",
      "model_name": "LayoutModel",
      "state": {
       "width": "95px"
      }
     },
     "11a15d54b8e84037a7f206dc98a1142e": {
      "model_module": "@jupyter-widgets/base",
      "model_module_version": "1.2.0",
      "model_name": "LayoutModel",
      "state": {
       "width": "145px"
      }
     },
     "1ecac7541ca540feb048c5c9d147ef2e": {
      "model_module": "@jupyter-widgets/base",
      "model_module_version": "1.2.0",
      "model_name": "LayoutModel",
      "state": {
       "grid_template_areas": "\n                                       \". . . . right \"\n                                        ",
       "grid_template_columns": "20% 20% 20% 20% 20%",
       "width": "100%"
      }
     },
     "1fc11c89bdb74b01a51c36e11d15e5d3": {
      "model_module": "@jupyter-widgets/controls",
      "model_module_version": "1.5.0",
      "model_name": "HTMLModel",
      "state": {
       "layout": "IPY_MODEL_0e512b7431e2477aac1a739203fe71fb",
       "style": "IPY_MODEL_402b2456432a4ee9aa4f238e47a10889",
       "value": "<h5>Status</h5>"
      }
     },
     "2cbac85da7ab454fb82cdfcea493ff0b": {
      "model_module": "@jupyter-widgets/base",
      "model_module_version": "1.2.0",
      "model_name": "LayoutModel",
      "state": {
       "grid_area": "right",
       "padding": "0px 0px 0px 0px",
       "width": "70px"
      }
     },
     "2f3fd3b6475940b59c185da79cd4b54f": {
      "model_module": "@jupyter-widgets/controls",
      "model_module_version": "1.5.0",
      "model_name": "DescriptionStyleModel",
      "state": {
       "description_width": ""
      }
     },
     "402b2456432a4ee9aa4f238e47a10889": {
      "model_module": "@jupyter-widgets/controls",
      "model_module_version": "1.5.0",
      "model_name": "DescriptionStyleModel",
      "state": {
       "description_width": ""
      }
     },
     "492f5d675d364aeb81ce07ea2942e5eb": {
      "model_module": "@jupyter-widgets/base",
      "model_module_version": "1.2.0",
      "model_name": "LayoutModel",
      "state": {
       "width": "190px"
      }
     },
     "54378dc52acf4dd19f0ce985721c94a5": {
      "model_module": "@jupyter-widgets/base",
      "model_module_version": "1.2.0",
      "model_name": "LayoutModel",
      "state": {
       "margin": "0px 0px 0px 37px",
       "width": "600px"
      }
     },
     "60965b035874462fa556934cdd9c6fbe": {
      "model_module": "@jupyter-widgets/controls",
      "model_module_version": "1.5.0",
      "model_name": "HTMLModel",
      "state": {
       "layout": "IPY_MODEL_6e5d3b6e5f714fd79f22211a82bd3143",
       "style": "IPY_MODEL_6b9715154c7444399f688b356b645296",
       "value": "<p style='font-family: IBM Plex Sans, Arial, Helvetica, sans-serif; font-size: 20px; font-weight: medium;'>Circuit Properties</p>"
      }
     },
     "6b9715154c7444399f688b356b645296": {
      "model_module": "@jupyter-widgets/controls",
      "model_module_version": "1.5.0",
      "model_name": "DescriptionStyleModel",
      "state": {
       "description_width": ""
      }
     },
     "6e5d3b6e5f714fd79f22211a82bd3143": {
      "model_module": "@jupyter-widgets/base",
      "model_module_version": "1.2.0",
      "model_name": "LayoutModel",
      "state": {
       "margin": "0px 0px 10px 0px"
      }
     },
     "81fa2e8c6e894f5aa77828021224c279": {
      "model_module": "@jupyter-widgets/controls",
      "model_module_version": "1.5.0",
      "model_name": "HTMLModel",
      "state": {
       "layout": "IPY_MODEL_11a15d54b8e84037a7f206dc98a1142e",
       "style": "IPY_MODEL_c5e9f9c2028b48d5aa32983b6692c995",
       "value": "<h5>Backend</h5>"
      }
     },
     "83e5b26a24234a3dabbdc58fbf74941c": {
      "model_module": "@jupyter-widgets/controls",
      "model_module_version": "1.5.0",
      "model_name": "ButtonStyleModel",
      "state": {}
     },
     "8e7b193d3ed24d6d9b4adcdec512b7eb": {
      "model_module": "@jupyter-widgets/controls",
      "model_module_version": "1.5.0",
      "model_name": "GridBoxModel",
      "state": {
       "children": [
        "IPY_MODEL_c38f8e5d54e240d0ac05a9a6a33bc37c"
       ],
       "layout": "IPY_MODEL_1ecac7541ca540feb048c5c9d147ef2e"
      }
     },
     "94fd5e65302945369ed4f03e7fc5d755": {
      "model_module": "@jupyter-widgets/base",
      "model_module_version": "1.2.0",
      "model_name": "LayoutModel",
      "state": {
       "width": "70px"
      }
     },
     "96ea16a76b1247229e910c0be5409f75": {
      "model_module": "@jupyter-widgets/controls",
      "model_module_version": "1.5.0",
      "model_name": "DescriptionStyleModel",
      "state": {
       "description_width": ""
      }
     },
     "afc704312e3c433aa23133e57791a818": {
      "model_module": "@jupyter-widgets/controls",
      "model_module_version": "1.5.0",
      "model_name": "HBoxModel",
      "state": {
       "children": [
        "IPY_MODEL_becf9ae2b59a4156afa89fd0f35cb001",
        "IPY_MODEL_81fa2e8c6e894f5aa77828021224c279",
        "IPY_MODEL_1fc11c89bdb74b01a51c36e11d15e5d3",
        "IPY_MODEL_e839d412f4d346908022724d1988d2f6",
        "IPY_MODEL_b06e22e1b6c94215b254724f9040f362"
       ],
       "layout": "IPY_MODEL_54378dc52acf4dd19f0ce985721c94a5"
      }
     },
     "b06e22e1b6c94215b254724f9040f362": {
      "model_module": "@jupyter-widgets/controls",
      "model_module_version": "1.5.0",
      "model_name": "HTMLModel",
      "state": {
       "layout": "IPY_MODEL_fda55d0aa8814510b8e3cab94282efc2",
       "style": "IPY_MODEL_96ea16a76b1247229e910c0be5409f75",
       "value": "<h5>Message</h5>"
      }
     },
     "becf9ae2b59a4156afa89fd0f35cb001": {
      "model_module": "@jupyter-widgets/controls",
      "model_module_version": "1.5.0",
      "model_name": "HTMLModel",
      "state": {
       "layout": "IPY_MODEL_492f5d675d364aeb81ce07ea2942e5eb",
       "style": "IPY_MODEL_2f3fd3b6475940b59c185da79cd4b54f",
       "value": "<h5>Job ID</h5>"
      }
     },
     "c38f8e5d54e240d0ac05a9a6a33bc37c": {
      "model_module": "@jupyter-widgets/controls",
      "model_module_version": "1.5.0",
      "model_name": "ButtonModel",
      "state": {
       "button_style": "primary",
       "description": "Clear",
       "layout": "IPY_MODEL_2cbac85da7ab454fb82cdfcea493ff0b",
       "style": "IPY_MODEL_83e5b26a24234a3dabbdc58fbf74941c"
      }
     },
     "c5880bc082d24050818cde7270cca844": {
      "model_module": "@jupyter-widgets/controls",
      "model_module_version": "1.5.0",
      "model_name": "DescriptionStyleModel",
      "state": {
       "description_width": ""
      }
     },
     "c5e9f9c2028b48d5aa32983b6692c995": {
      "model_module": "@jupyter-widgets/controls",
      "model_module_version": "1.5.0",
      "model_name": "DescriptionStyleModel",
      "state": {
       "description_width": ""
      }
     },
     "e839d412f4d346908022724d1988d2f6": {
      "model_module": "@jupyter-widgets/controls",
      "model_module_version": "1.5.0",
      "model_name": "HTMLModel",
      "state": {
       "layout": "IPY_MODEL_94fd5e65302945369ed4f03e7fc5d755",
       "style": "IPY_MODEL_c5880bc082d24050818cde7270cca844",
       "value": "<h5>Queue</h5>"
      }
     },
     "fda55d0aa8814510b8e3cab94282efc2": {
      "model_module": "@jupyter-widgets/base",
      "model_module_version": "1.2.0",
      "model_name": "LayoutModel",
      "state": {}
     }
    },
    "version_major": 2,
    "version_minor": 0
   }
  }
 },
 "nbformat": 4,
 "nbformat_minor": 5
}
